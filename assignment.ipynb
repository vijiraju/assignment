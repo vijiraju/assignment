{
  "nbformat": 4,
  "nbformat_minor": 0,
  "metadata": {
    "colab": {
      "name": "assignment.ipynb",
      "provenance": [],
      "collapsed_sections": []
    },
    "kernelspec": {
      "name": "python3",
      "display_name": "Python 3"
    },
    "language_info": {
      "name": "python"
    }
  },
  "cells": [
    {
      "cell_type": "code",
      "metadata": {
        "id": "Yw56S_jCmj2q"
      },
      "source": [
        "%matplotlib inline\n",
        "\n",
        "import numpy as np\n",
        "import pandas as pd\n",
        "from keras.preprocessing.image import ImageDataGenerator\n",
        "from keras.models import Model\n",
        "from keras.layers import Input, Flatten, Dense\n",
        "from keras.callbacks import Callback, ModelCheckpoint\n",
        "\n",
        "from keras.preprocessing import image\n",
        "\n",
        "from keras.applications.resnet50 import ResNet50\n",
        "from keras.applications.resnet50 import preprocess_input\n",
        "from keras.layers import Conv2D,MaxPooling2D,Flatten,Dense,GlobalAveragePooling2D,Dropout\n",
        "import warnings\n",
        "warnings.filterwarnings('ignore')\n",
        "from sklearn.metrics import classification_report\n",
        "from sklearn.metrics import confusion_matrix\n"
      ],
      "execution_count": 9,
      "outputs": []
    },
    {
      "cell_type": "code",
      "metadata": {
        "id": "CjCQZ-eTmwzv",
        "colab": {
          "base_uri": "https://localhost:8080/"
        },
        "outputId": "93a271cf-8a4e-46b2-e09e-69e367edf973"
      },
      "source": [
        "model_resnet50 = ResNet50(weights='imagenet', include_top=False)"
      ],
      "execution_count": 37,
      "outputs": [
        {
          "output_type": "stream",
          "text": [
            "Downloading data from https://storage.googleapis.com/tensorflow/keras-applications/resnet/resnet50_weights_tf_dim_ordering_tf_kernels_notop.h5\n",
            "94773248/94765736 [==============================] - 1s 0us/step\n"
          ],
          "name": "stdout"
        }
      ]
    },
    {
      "cell_type": "code",
      "metadata": {
        "id": "a58CcEHLmzJb"
      },
      "source": [
        "for layer in model_resnet50.layers:\n",
        "    layer.trainable = False"
      ],
      "execution_count": 38,
      "outputs": []
    },
    {
      "cell_type": "code",
      "metadata": {
        "id": "WyE-B5Hom2Tg"
      },
      "source": [
        "img_width, img_height = 150, 150\n",
        "train_data_dir = '/content/drive/MyDrive/train_new'\n",
        "val_data_dir = '/content/drive/MyDrive/test_new'\n",
        "model_weights_file = 'model_resnet50.h5'\n",
        "nb_train_samples = 4\n",
        "nb_val_samples = 4\n",
        "nb_epochs = 5"
      ],
      "execution_count": 4,
      "outputs": []
    },
    {
      "cell_type": "code",
      "metadata": {
        "id": "UKHdqF7rnN5_"
      },
      "source": [
        "put1 = Input(shape=(img_width, img_height, 3))\n",
        "output_resnet = model_resnet50(put1)\n",
        "x = Flatten()(output_resnet)\n",
        "x = Dense(64, activation='relu')(x)\n",
        "x = Dense(10, activation='softmax')(x)\n",
        "model=Model(inputs=put1,outputs=x)\n",
        "\n",
        "model.compile(loss='categorical_crossentropy', optimizer='rmsprop', metrics=['accuracy'])"
      ],
      "execution_count": 5,
      "outputs": []
    },
    {
      "cell_type": "code",
      "metadata": {
        "colab": {
          "base_uri": "https://localhost:8080/"
        },
        "id": "BN17Sk5Jo3Xx",
        "outputId": "cbffec0d-c6cd-4e40-af84-6c9b91f731e5"
      },
      "source": [
        "train_datagen = ImageDataGenerator(rescale=1./255, shear_range=0.2, zoom_range=0.2, horizontal_flip=True)\n",
        "test_datagen = ImageDataGenerator(rescale=1./255)\n",
        "\n",
        "train_generator = train_datagen.flow_from_directory(train_data_dir, target_size=(img_width, img_height), \n",
        "                                                    batch_size=32, class_mode='categorical')\n",
        "validation_generator = test_datagen.flow_from_directory(val_data_dir, target_size=(img_width, img_height), \n",
        "                                                        batch_size=32,class_mode='categorical')"
      ],
      "execution_count": 6,
      "outputs": [
        {
          "output_type": "stream",
          "text": [
            "Found 7414 images belonging to 10 classes.\n",
            "Found 1847 images belonging to 10 classes.\n"
          ],
          "name": "stdout"
        }
      ]
    },
    {
      "cell_type": "markdown",
      "metadata": {
        "id": "bH1yHgVetJoF"
      },
      "source": [
        "**ACCURACY**"
      ]
    },
    {
      "cell_type": "code",
      "metadata": {
        "id": "WQb4HoXWu_4Q",
        "colab": {
          "base_uri": "https://localhost:8080/"
        },
        "outputId": "c9dd71bc-e41c-4944-bf60-e5b82f747e31"
      },
      "source": [
        "history = model.fit_generator( train_generator,  epochs=4,\n",
        "  steps_per_epoch=len(train_generator),\n",
        "  validation_steps=len(validation_generator))"
      ],
      "execution_count": 7,
      "outputs": [
        {
          "output_type": "stream",
          "text": [
            "Epoch 1/4\n",
            "232/232 [==============================] - 1791s 8s/step - loss: 2.0246 - accuracy: 0.3427\n",
            "Epoch 2/4\n",
            "232/232 [==============================] - 1719s 7s/step - loss: 0.9460 - accuracy: 0.6917\n",
            "Epoch 3/4\n",
            "232/232 [==============================] - 1697s 7s/step - loss: 0.6284 - accuracy: 0.8036\n",
            "Epoch 4/4\n",
            "232/232 [==============================] - 1688s 7s/step - loss: 0.4698 - accuracy: 0.8551\n"
          ],
          "name": "stdout"
        }
      ]
    },
    {
      "cell_type": "markdown",
      "metadata": {
        "id": "ILb38KvatNr3"
      },
      "source": [
        "**CONFUSION MATRIX AND F1_SCORE**"
      ]
    },
    {
      "cell_type": "code",
      "metadata": {
        "colab": {
          "base_uri": "https://localhost:8080/"
        },
        "id": "TpiK5u5ts3L9",
        "outputId": "73ecedd5-97e1-487a-a8ac-1baa8a5a427d"
      },
      "source": [
        "batch_size = 32\n",
        "target_names = ['beagle', 'chihuahua', 'doberman', 'french_bulldog', 'golden_retriever', 'malamute', 'pug', 'saint_bernard', 'scottish_deerhound', 'tibetan_mastiff']\n",
        "Y_pred = model.predict_generator(validation_generator, 2513 // batch_size+1)\n",
        "y_pred = np.argmax(Y_pred, axis=1)\n",
        "print('Classification Report')\n",
        "print(classification_report(validation_generator.classes, y_pred))"
      ],
      "execution_count": 10,
      "outputs": [
        {
          "output_type": "stream",
          "text": [
            "WARNING:tensorflow:Your input ran out of data; interrupting training. Make sure that your dataset or generator can generate at least `steps_per_epoch * epochs` batches (in this case, 79 batches). You may need to use the repeat() function when building your dataset.\n",
            "Classification Report\n",
            "              precision    recall  f1-score   support\n",
            "\n",
            "           0       0.17      0.08      0.11       231\n",
            "           1       0.12      0.12      0.12       143\n",
            "           2       0.08      0.08      0.08       165\n",
            "           3       0.09      0.05      0.07       154\n",
            "           4       0.07      0.06      0.06       153\n",
            "           5       0.08      0.08      0.08       187\n",
            "           6       0.10      0.21      0.14       209\n",
            "           7       0.08      0.07      0.08       187\n",
            "           8       0.17      0.16      0.16       275\n",
            "           9       0.11      0.11      0.11       143\n",
            "\n",
            "    accuracy                           0.11      1847\n",
            "   macro avg       0.11      0.10      0.10      1847\n",
            "weighted avg       0.11      0.11      0.11      1847\n",
            "\n"
          ],
          "name": "stdout"
        }
      ]
    },
    {
      "cell_type": "markdown",
      "metadata": {
        "id": "wuAjhzd7Sbag"
      },
      "source": [
        "**roc_curve**"
      ]
    },
    {
      "cell_type": "code",
      "metadata": {
        "colab": {
          "base_uri": "https://localhost:8080/"
        },
        "id": "I5pF9xjNIzs0",
        "outputId": "f3b41798-85fa-41de-a1c0-c2a972942c89"
      },
      "source": [
        "from sklearn.metrics import roc_curve\n",
        "from sklearn.metrics import roc_auc_score\n",
        "rc=roc_curve(validation_generator.classes, y_pred, pos_label=2)\n",
        "print(rc)"
      ],
      "execution_count": 35,
      "outputs": [
        {
          "output_type": "stream",
          "text": [
            "(array([0.        , 0.07669441, 0.21819263, 0.31807372, 0.55469679,\n",
            "       0.65576694, 0.72532699, 0.77348395, 0.86741974, 0.93935791,\n",
            "       1.        ]), array([0.        , 0.12121212, 0.26666667, 0.35151515, 0.53333333,\n",
            "       0.63030303, 0.71515152, 0.76969697, 0.84848485, 0.93939394,\n",
            "       1.        ]), array([10,  9,  8,  7,  6,  5,  4,  3,  2,  1,  0]))\n"
          ],
          "name": "stdout"
        }
      ]
    },
    {
      "cell_type": "markdown",
      "metadata": {
        "id": "z16AEDZYSg5m"
      },
      "source": [
        "**confusion matrix**"
      ]
    },
    {
      "cell_type": "code",
      "metadata": {
        "colab": {
          "base_uri": "https://localhost:8080/"
        },
        "id": "wZao0GDBvTo2",
        "outputId": "f0a13f81-9b41-407d-8ff0-0955068df516"
      },
      "source": [
        "print('Confusion Matrix')\n",
        "cm = confusion_matrix(validation_generator.classes, y_pred)\n",
        "print(cm)"
      ],
      "execution_count": 12,
      "outputs": [
        {
          "output_type": "stream",
          "text": [
            "Confusion Matrix\n",
            "[[19  5 24 11 18 27 56 26 29 16]\n",
            " [ 9 17 13  2  8 13 25 18 24 14]\n",
            " [10 15 13  9 14 16 30 14 24 20]\n",
            " [11 10  8  8 13 19 42 11 21 11]\n",
            " [ 6 15 16  9  9 15 35 18 23  7]\n",
            " [10 14 18  8 13 15 56 20 18 15]\n",
            " [12 16 22 11 22 17 44 17 35 13]\n",
            " [12 14 26 11  8 18 46 14 21 17]\n",
            " [15 21 20 12 18 33 60 32 44 20]\n",
            " [ 8  9 11  9  8 13 34 12 23 16]]\n"
          ],
          "name": "stdout"
        }
      ]
    },
    {
      "cell_type": "code",
      "metadata": {
        "id": "dYTUKzKeGDgs"
      },
      "source": [
        "import os"
      ],
      "execution_count": 13,
      "outputs": []
    },
    {
      "cell_type": "code",
      "metadata": {
        "colab": {
          "base_uri": "https://localhost:8080/"
        },
        "id": "3A7LIfoGAANH",
        "outputId": "e8d5a61e-6724-4f47-e9a3-bba02abb67da"
      },
      "source": [
        "class_name=[a for a in os.listdir('/content/drive/MyDrive/train_new')]\n",
        "class_names=sorted(class_name)\n",
        "print(class_names)"
      ],
      "execution_count": 23,
      "outputs": [
        {
          "output_type": "stream",
          "text": [
            "['beagle', 'chihuahua', 'doberman', 'french_bulldog', 'golden_retriever', 'malamute', 'pug', 'saint_bernard', 'scottish_deerhound', 'tibetan_mastiff']\n"
          ],
          "name": "stdout"
        }
      ]
    },
    {
      "cell_type": "code",
      "metadata": {
        "colab": {
          "base_uri": "https://localhost:8080/"
        },
        "id": "0TdsmMc0AUtN",
        "outputId": "3d219abf-7475-489e-d187-eeee14f901d2"
      },
      "source": [
        "pip install gradio"
      ],
      "execution_count": 16,
      "outputs": [
        {
          "output_type": "stream",
          "text": [
            "Collecting gradio\n",
            "\u001b[?25l  Downloading https://files.pythonhosted.org/packages/e4/c6/19d6941437fb56db775b00c0181af81e539c42369bc79c664001d2272ccb/gradio-2.0.5-py3-none-any.whl (1.6MB)\n",
            "\r\u001b[K     |▏                               | 10kB 11.9MB/s eta 0:00:01\r\u001b[K     |▍                               | 20kB 17.1MB/s eta 0:00:01\r\u001b[K     |▋                               | 30kB 21.1MB/s eta 0:00:01\r\u001b[K     |▉                               | 40kB 14.3MB/s eta 0:00:01\r\u001b[K     |█                               | 51kB 6.6MB/s eta 0:00:01\r\u001b[K     |█▎                              | 61kB 5.3MB/s eta 0:00:01\r\u001b[K     |█▌                              | 71kB 5.7MB/s eta 0:00:01\r\u001b[K     |█▊                              | 81kB 6.3MB/s eta 0:00:01\r\u001b[K     |██                              | 92kB 6.7MB/s eta 0:00:01\r\u001b[K     |██                              | 102kB 5.6MB/s eta 0:00:01\r\u001b[K     |██▎                             | 112kB 5.6MB/s eta 0:00:01\r\u001b[K     |██▌                             | 122kB 5.6MB/s eta 0:00:01\r\u001b[K     |██▊                             | 133kB 5.6MB/s eta 0:00:01\r\u001b[K     |███                             | 143kB 5.6MB/s eta 0:00:01\r\u001b[K     |███▏                            | 153kB 5.6MB/s eta 0:00:01\r\u001b[K     |███▍                            | 163kB 5.6MB/s eta 0:00:01\r\u001b[K     |███▋                            | 174kB 5.6MB/s eta 0:00:01\r\u001b[K     |███▉                            | 184kB 5.6MB/s eta 0:00:01\r\u001b[K     |████                            | 194kB 5.6MB/s eta 0:00:01\r\u001b[K     |████▏                           | 204kB 5.6MB/s eta 0:00:01\r\u001b[K     |████▍                           | 215kB 5.6MB/s eta 0:00:01\r\u001b[K     |████▋                           | 225kB 5.6MB/s eta 0:00:01\r\u001b[K     |████▉                           | 235kB 5.6MB/s eta 0:00:01\r\u001b[K     |█████                           | 245kB 5.6MB/s eta 0:00:01\r\u001b[K     |█████▎                          | 256kB 5.6MB/s eta 0:00:01\r\u001b[K     |█████▌                          | 266kB 5.6MB/s eta 0:00:01\r\u001b[K     |█████▊                          | 276kB 5.6MB/s eta 0:00:01\r\u001b[K     |█████▉                          | 286kB 5.6MB/s eta 0:00:01\r\u001b[K     |██████                          | 296kB 5.6MB/s eta 0:00:01\r\u001b[K     |██████▎                         | 307kB 5.6MB/s eta 0:00:01\r\u001b[K     |██████▌                         | 317kB 5.6MB/s eta 0:00:01\r\u001b[K     |██████▊                         | 327kB 5.6MB/s eta 0:00:01\r\u001b[K     |███████                         | 337kB 5.6MB/s eta 0:00:01\r\u001b[K     |███████▏                        | 348kB 5.6MB/s eta 0:00:01\r\u001b[K     |███████▍                        | 358kB 5.6MB/s eta 0:00:01\r\u001b[K     |███████▋                        | 368kB 5.6MB/s eta 0:00:01\r\u001b[K     |███████▊                        | 378kB 5.6MB/s eta 0:00:01\r\u001b[K     |████████                        | 389kB 5.6MB/s eta 0:00:01\r\u001b[K     |████████▏                       | 399kB 5.6MB/s eta 0:00:01\r\u001b[K     |████████▍                       | 409kB 5.6MB/s eta 0:00:01\r\u001b[K     |████████▋                       | 419kB 5.6MB/s eta 0:00:01\r\u001b[K     |████████▉                       | 430kB 5.6MB/s eta 0:00:01\r\u001b[K     |█████████                       | 440kB 5.6MB/s eta 0:00:01\r\u001b[K     |█████████▎                      | 450kB 5.6MB/s eta 0:00:01\r\u001b[K     |█████████▌                      | 460kB 5.6MB/s eta 0:00:01\r\u001b[K     |█████████▋                      | 471kB 5.6MB/s eta 0:00:01\r\u001b[K     |█████████▉                      | 481kB 5.6MB/s eta 0:00:01\r\u001b[K     |██████████                      | 491kB 5.6MB/s eta 0:00:01\r\u001b[K     |██████████▎                     | 501kB 5.6MB/s eta 0:00:01\r\u001b[K     |██████████▌                     | 512kB 5.6MB/s eta 0:00:01\r\u001b[K     |██████████▊                     | 522kB 5.6MB/s eta 0:00:01\r\u001b[K     |███████████                     | 532kB 5.6MB/s eta 0:00:01\r\u001b[K     |███████████▏                    | 542kB 5.6MB/s eta 0:00:01\r\u001b[K     |███████████▍                    | 552kB 5.6MB/s eta 0:00:01\r\u001b[K     |███████████▌                    | 563kB 5.6MB/s eta 0:00:01\r\u001b[K     |███████████▊                    | 573kB 5.6MB/s eta 0:00:01\r\u001b[K     |████████████                    | 583kB 5.6MB/s eta 0:00:01\r\u001b[K     |████████████▏                   | 593kB 5.6MB/s eta 0:00:01\r\u001b[K     |████████████▍                   | 604kB 5.6MB/s eta 0:00:01\r\u001b[K     |████████████▋                   | 614kB 5.6MB/s eta 0:00:01\r\u001b[K     |████████████▉                   | 624kB 5.6MB/s eta 0:00:01\r\u001b[K     |█████████████                   | 634kB 5.6MB/s eta 0:00:01\r\u001b[K     |█████████████▎                  | 645kB 5.6MB/s eta 0:00:01\r\u001b[K     |█████████████▍                  | 655kB 5.6MB/s eta 0:00:01\r\u001b[K     |█████████████▋                  | 665kB 5.6MB/s eta 0:00:01\r\u001b[K     |█████████████▉                  | 675kB 5.6MB/s eta 0:00:01\r\u001b[K     |██████████████                  | 686kB 5.6MB/s eta 0:00:01\r\u001b[K     |██████████████▎                 | 696kB 5.6MB/s eta 0:00:01\r\u001b[K     |██████████████▌                 | 706kB 5.6MB/s eta 0:00:01\r\u001b[K     |██████████████▊                 | 716kB 5.6MB/s eta 0:00:01\r\u001b[K     |███████████████                 | 727kB 5.6MB/s eta 0:00:01\r\u001b[K     |███████████████▏                | 737kB 5.6MB/s eta 0:00:01\r\u001b[K     |███████████████▍                | 747kB 5.6MB/s eta 0:00:01\r\u001b[K     |███████████████▌                | 757kB 5.6MB/s eta 0:00:01\r\u001b[K     |███████████████▊                | 768kB 5.6MB/s eta 0:00:01\r\u001b[K     |████████████████                | 778kB 5.6MB/s eta 0:00:01\r\u001b[K     |████████████████▏               | 788kB 5.6MB/s eta 0:00:01\r\u001b[K     |████████████████▍               | 798kB 5.6MB/s eta 0:00:01\r\u001b[K     |████████████████▋               | 808kB 5.6MB/s eta 0:00:01\r\u001b[K     |████████████████▉               | 819kB 5.6MB/s eta 0:00:01\r\u001b[K     |█████████████████               | 829kB 5.6MB/s eta 0:00:01\r\u001b[K     |█████████████████▎              | 839kB 5.6MB/s eta 0:00:01\r\u001b[K     |█████████████████▍              | 849kB 5.6MB/s eta 0:00:01\r\u001b[K     |█████████████████▋              | 860kB 5.6MB/s eta 0:00:01\r\u001b[K     |█████████████████▉              | 870kB 5.6MB/s eta 0:00:01\r\u001b[K     |██████████████████              | 880kB 5.6MB/s eta 0:00:01\r\u001b[K     |██████████████████▎             | 890kB 5.6MB/s eta 0:00:01\r\u001b[K     |██████████████████▌             | 901kB 5.6MB/s eta 0:00:01\r\u001b[K     |██████████████████▊             | 911kB 5.6MB/s eta 0:00:01\r\u001b[K     |███████████████████             | 921kB 5.6MB/s eta 0:00:01\r\u001b[K     |███████████████████▏            | 931kB 5.6MB/s eta 0:00:01\r\u001b[K     |███████████████████▎            | 942kB 5.6MB/s eta 0:00:01\r\u001b[K     |███████████████████▌            | 952kB 5.6MB/s eta 0:00:01\r\u001b[K     |███████████████████▊            | 962kB 5.6MB/s eta 0:00:01\r\u001b[K     |████████████████████            | 972kB 5.6MB/s eta 0:00:01\r\u001b[K     |████████████████████▏           | 983kB 5.6MB/s eta 0:00:01\r\u001b[K     |████████████████████▍           | 993kB 5.6MB/s eta 0:00:01\r\u001b[K     |████████████████████▋           | 1.0MB 5.6MB/s eta 0:00:01\r\u001b[K     |████████████████████▉           | 1.0MB 5.6MB/s eta 0:00:01\r\u001b[K     |█████████████████████           | 1.0MB 5.6MB/s eta 0:00:01\r\u001b[K     |█████████████████████▏          | 1.0MB 5.6MB/s eta 0:00:01\r\u001b[K     |█████████████████████▍          | 1.0MB 5.6MB/s eta 0:00:01\r\u001b[K     |█████████████████████▋          | 1.1MB 5.6MB/s eta 0:00:01\r\u001b[K     |█████████████████████▉          | 1.1MB 5.6MB/s eta 0:00:01\r\u001b[K     |██████████████████████          | 1.1MB 5.6MB/s eta 0:00:01\r\u001b[K     |██████████████████████▎         | 1.1MB 5.6MB/s eta 0:00:01\r\u001b[K     |██████████████████████▌         | 1.1MB 5.6MB/s eta 0:00:01\r\u001b[K     |██████████████████████▊         | 1.1MB 5.6MB/s eta 0:00:01\r\u001b[K     |███████████████████████         | 1.1MB 5.6MB/s eta 0:00:01\r\u001b[K     |███████████████████████         | 1.1MB 5.6MB/s eta 0:00:01\r\u001b[K     |███████████████████████▎        | 1.1MB 5.6MB/s eta 0:00:01\r\u001b[K     |███████████████████████▌        | 1.1MB 5.6MB/s eta 0:00:01\r\u001b[K     |███████████████████████▊        | 1.2MB 5.6MB/s eta 0:00:01\r\u001b[K     |████████████████████████        | 1.2MB 5.6MB/s eta 0:00:01\r\u001b[K     |████████████████████████▏       | 1.2MB 5.6MB/s eta 0:00:01\r\u001b[K     |████████████████████████▍       | 1.2MB 5.6MB/s eta 0:00:01\r\u001b[K     |████████████████████████▋       | 1.2MB 5.6MB/s eta 0:00:01\r\u001b[K     |████████████████████████▉       | 1.2MB 5.6MB/s eta 0:00:01\r\u001b[K     |█████████████████████████       | 1.2MB 5.6MB/s eta 0:00:01\r\u001b[K     |█████████████████████████▏      | 1.2MB 5.6MB/s eta 0:00:01\r\u001b[K     |█████████████████████████▍      | 1.2MB 5.6MB/s eta 0:00:01\r\u001b[K     |█████████████████████████▋      | 1.2MB 5.6MB/s eta 0:00:01\r\u001b[K     |█████████████████████████▉      | 1.3MB 5.6MB/s eta 0:00:01\r\u001b[K     |██████████████████████████      | 1.3MB 5.6MB/s eta 0:00:01\r\u001b[K     |██████████████████████████▎     | 1.3MB 5.6MB/s eta 0:00:01\r\u001b[K     |██████████████████████████▌     | 1.3MB 5.6MB/s eta 0:00:01\r\u001b[K     |██████████████████████████▊     | 1.3MB 5.6MB/s eta 0:00:01\r\u001b[K     |██████████████████████████▉     | 1.3MB 5.6MB/s eta 0:00:01\r\u001b[K     |███████████████████████████     | 1.3MB 5.6MB/s eta 0:00:01\r\u001b[K     |███████████████████████████▎    | 1.3MB 5.6MB/s eta 0:00:01\r\u001b[K     |███████████████████████████▌    | 1.3MB 5.6MB/s eta 0:00:01\r\u001b[K     |███████████████████████████▊    | 1.4MB 5.6MB/s eta 0:00:01\r\u001b[K     |████████████████████████████    | 1.4MB 5.6MB/s eta 0:00:01\r\u001b[K     |████████████████████████████▏   | 1.4MB 5.6MB/s eta 0:00:01\r\u001b[K     |████████████████████████████▍   | 1.4MB 5.6MB/s eta 0:00:01\r\u001b[K     |████████████████████████████▋   | 1.4MB 5.6MB/s eta 0:00:01\r\u001b[K     |████████████████████████████▊   | 1.4MB 5.6MB/s eta 0:00:01\r\u001b[K     |█████████████████████████████   | 1.4MB 5.6MB/s eta 0:00:01\r\u001b[K     |█████████████████████████████▏  | 1.4MB 5.6MB/s eta 0:00:01\r\u001b[K     |█████████████████████████████▍  | 1.4MB 5.6MB/s eta 0:00:01\r\u001b[K     |█████████████████████████████▋  | 1.4MB 5.6MB/s eta 0:00:01\r\u001b[K     |█████████████████████████████▉  | 1.5MB 5.6MB/s eta 0:00:01\r\u001b[K     |██████████████████████████████  | 1.5MB 5.6MB/s eta 0:00:01\r\u001b[K     |██████████████████████████████▎ | 1.5MB 5.6MB/s eta 0:00:01\r\u001b[K     |██████████████████████████████▌ | 1.5MB 5.6MB/s eta 0:00:01\r\u001b[K     |██████████████████████████████▊ | 1.5MB 5.6MB/s eta 0:00:01\r\u001b[K     |██████████████████████████████▉ | 1.5MB 5.6MB/s eta 0:00:01\r\u001b[K     |███████████████████████████████ | 1.5MB 5.6MB/s eta 0:00:01\r\u001b[K     |███████████████████████████████▎| 1.5MB 5.6MB/s eta 0:00:01\r\u001b[K     |███████████████████████████████▌| 1.5MB 5.6MB/s eta 0:00:01\r\u001b[K     |███████████████████████████████▊| 1.5MB 5.6MB/s eta 0:00:01\r\u001b[K     |████████████████████████████████| 1.6MB 5.6MB/s eta 0:00:01\r\u001b[K     |████████████████████████████████| 1.6MB 5.6MB/s \n",
            "\u001b[?25hCollecting analytics-python\n",
            "  Downloading https://files.pythonhosted.org/packages/30/81/2f447982f8d5dec5b56c10ca9ac53e5de2b2e9e2bdf7e091a05731f21379/analytics_python-1.3.1-py2.py3-none-any.whl\n",
            "Collecting Flask-Cors>=3.0.8\n",
            "  Downloading https://files.pythonhosted.org/packages/db/84/901e700de86604b1c4ef4b57110d4e947c218b9997adf5d38fa7da493bce/Flask_Cors-3.0.10-py2.py3-none-any.whl\n",
            "Collecting pycryptodome\n",
            "\u001b[?25l  Downloading https://files.pythonhosted.org/packages/ad/16/9627ab0493894a11c68e46000dbcc82f578c8ff06bc2980dcd016aea9bd3/pycryptodome-3.10.1-cp35-abi3-manylinux2010_x86_64.whl (1.9MB)\n",
            "\u001b[K     |████████████████████████████████| 1.9MB 28.4MB/s \n",
            "\u001b[?25hRequirement already satisfied: requests in /usr/local/lib/python3.7/dist-packages (from gradio) (2.23.0)\n",
            "Collecting Flask-Login\n",
            "  Downloading https://files.pythonhosted.org/packages/2b/83/ac5bf3279f969704fc1e63f050c50e10985e50fd340e6069ec7e09df5442/Flask_Login-0.5.0-py2.py3-none-any.whl\n",
            "Collecting flask-cachebuster\n",
            "  Downloading https://files.pythonhosted.org/packages/74/47/f3e1fedfaad965c81c2f17234636d72f71450f1b4522ca26d2b7eb4a0a74/Flask-CacheBuster-1.0.0.tar.gz\n",
            "Requirement already satisfied: scipy in /usr/local/lib/python3.7/dist-packages (from gradio) (1.4.1)\n",
            "Collecting markdown2\n",
            "  Downloading https://files.pythonhosted.org/packages/5d/be/3924cc1c0e12030b5225de2b4521f1dc729730773861475de26be64a0d2b/markdown2-2.4.0-py2.py3-none-any.whl\n",
            "Requirement already satisfied: pillow in /usr/local/lib/python3.7/dist-packages (from gradio) (7.1.2)\n",
            "Requirement already satisfied: pandas in /usr/local/lib/python3.7/dist-packages (from gradio) (1.1.5)\n",
            "Collecting ffmpy\n",
            "  Downloading https://files.pythonhosted.org/packages/bf/e2/947df4b3d666bfdd2b0c6355d215c45d2d40f929451cb29a8a2995b29788/ffmpy-0.3.0.tar.gz\n",
            "Collecting paramiko\n",
            "\u001b[?25l  Downloading https://files.pythonhosted.org/packages/95/19/124e9287b43e6ff3ebb9cdea3e5e8e88475a873c05ccdf8b7e20d2c4201e/paramiko-2.7.2-py2.py3-none-any.whl (206kB)\n",
            "\u001b[K     |████████████████████████████████| 215kB 34.7MB/s \n",
            "\u001b[?25hRequirement already satisfied: numpy in /usr/local/lib/python3.7/dist-packages (from gradio) (1.19.5)\n",
            "Requirement already satisfied: matplotlib in /usr/local/lib/python3.7/dist-packages (from gradio) (3.2.2)\n",
            "Requirement already satisfied: Flask>=1.1.1 in /usr/local/lib/python3.7/dist-packages (from gradio) (1.1.4)\n",
            "Collecting monotonic>=1.5\n",
            "  Downloading https://files.pythonhosted.org/packages/9a/67/7e8406a29b6c45be7af7740456f7f37025f0506ae2e05fb9009a53946860/monotonic-1.6-py2.py3-none-any.whl\n",
            "Requirement already satisfied: python-dateutil>2.1 in /usr/local/lib/python3.7/dist-packages (from analytics-python->gradio) (2.8.1)\n",
            "Collecting backoff==1.10.0\n",
            "  Downloading https://files.pythonhosted.org/packages/f0/32/c5dd4f4b0746e9ec05ace2a5045c1fc375ae67ee94355344ad6c7005fd87/backoff-1.10.0-py2.py3-none-any.whl\n",
            "Requirement already satisfied: six>=1.5 in /usr/local/lib/python3.7/dist-packages (from analytics-python->gradio) (1.15.0)\n",
            "Requirement already satisfied: certifi>=2017.4.17 in /usr/local/lib/python3.7/dist-packages (from requests->gradio) (2021.5.30)\n",
            "Requirement already satisfied: chardet<4,>=3.0.2 in /usr/local/lib/python3.7/dist-packages (from requests->gradio) (3.0.4)\n",
            "Requirement already satisfied: idna<3,>=2.5 in /usr/local/lib/python3.7/dist-packages (from requests->gradio) (2.10)\n",
            "Requirement already satisfied: urllib3!=1.25.0,!=1.25.1,<1.26,>=1.21.1 in /usr/local/lib/python3.7/dist-packages (from requests->gradio) (1.24.3)\n",
            "Requirement already satisfied: pytz>=2017.2 in /usr/local/lib/python3.7/dist-packages (from pandas->gradio) (2018.9)\n",
            "Collecting pynacl>=1.0.1\n",
            "\u001b[?25l  Downloading https://files.pythonhosted.org/packages/9d/57/2f5e6226a674b2bcb6db531e8b383079b678df5b10cdaa610d6cf20d77ba/PyNaCl-1.4.0-cp35-abi3-manylinux1_x86_64.whl (961kB)\n",
            "\u001b[K     |████████████████████████████████| 962kB 26.9MB/s \n",
            "\u001b[?25hCollecting bcrypt>=3.1.3\n",
            "\u001b[?25l  Downloading https://files.pythonhosted.org/packages/26/70/6d218afbe4c73538053c1016dd631e8f25fffc10cd01f5c272d7acf3c03d/bcrypt-3.2.0-cp36-abi3-manylinux2010_x86_64.whl (63kB)\n",
            "\u001b[K     |████████████████████████████████| 71kB 6.6MB/s \n",
            "\u001b[?25hCollecting cryptography>=2.5\n",
            "\u001b[?25l  Downloading https://files.pythonhosted.org/packages/b2/26/7af637e6a7e87258b963f1731c5982fb31cd507f0d90d91836e446955d02/cryptography-3.4.7-cp36-abi3-manylinux2014_x86_64.whl (3.2MB)\n",
            "\u001b[K     |████████████████████████████████| 3.2MB 31.2MB/s \n",
            "\u001b[?25hRequirement already satisfied: pyparsing!=2.0.4,!=2.1.2,!=2.1.6,>=2.0.1 in /usr/local/lib/python3.7/dist-packages (from matplotlib->gradio) (2.4.7)\n",
            "Requirement already satisfied: kiwisolver>=1.0.1 in /usr/local/lib/python3.7/dist-packages (from matplotlib->gradio) (1.3.1)\n",
            "Requirement already satisfied: cycler>=0.10 in /usr/local/lib/python3.7/dist-packages (from matplotlib->gradio) (0.10.0)\n",
            "Requirement already satisfied: Werkzeug<2.0,>=0.15 in /usr/local/lib/python3.7/dist-packages (from Flask>=1.1.1->gradio) (1.0.1)\n",
            "Requirement already satisfied: itsdangerous<2.0,>=0.24 in /usr/local/lib/python3.7/dist-packages (from Flask>=1.1.1->gradio) (1.1.0)\n",
            "Requirement already satisfied: click<8.0,>=5.1 in /usr/local/lib/python3.7/dist-packages (from Flask>=1.1.1->gradio) (7.1.2)\n",
            "Requirement already satisfied: Jinja2<3.0,>=2.10.1 in /usr/local/lib/python3.7/dist-packages (from Flask>=1.1.1->gradio) (2.11.3)\n",
            "Requirement already satisfied: cffi>=1.4.1 in /usr/local/lib/python3.7/dist-packages (from pynacl>=1.0.1->paramiko->gradio) (1.14.5)\n",
            "Requirement already satisfied: MarkupSafe>=0.23 in /usr/local/lib/python3.7/dist-packages (from Jinja2<3.0,>=2.10.1->Flask>=1.1.1->gradio) (2.0.1)\n",
            "Requirement already satisfied: pycparser in /usr/local/lib/python3.7/dist-packages (from cffi>=1.4.1->pynacl>=1.0.1->paramiko->gradio) (2.20)\n",
            "Building wheels for collected packages: flask-cachebuster, ffmpy\n",
            "  Building wheel for flask-cachebuster (setup.py) ... \u001b[?25l\u001b[?25hdone\n",
            "  Created wheel for flask-cachebuster: filename=Flask_CacheBuster-1.0.0-cp37-none-any.whl size=3372 sha256=037f6dba457b31c651d5db0f9ccb7e816686936ad450958a58dbdf175fbea514\n",
            "  Stored in directory: /root/.cache/pip/wheels/9f/fc/a7/ab5712c3ace9a8f97276465cc2937316ab8063c1fea488ea77\n",
            "  Building wheel for ffmpy (setup.py) ... \u001b[?25l\u001b[?25hdone\n",
            "  Created wheel for ffmpy: filename=ffmpy-0.3.0-cp37-none-any.whl size=4710 sha256=81a38c4090763fd1d4c87f63463449662c09fc13caaf5687c9d83602c1a72b93\n",
            "  Stored in directory: /root/.cache/pip/wheels/cc/ac/c4/bef572cb7e52bfca170046f567e64858632daf77e0f34e5a74\n",
            "Successfully built flask-cachebuster ffmpy\n",
            "Installing collected packages: monotonic, backoff, analytics-python, Flask-Cors, pycryptodome, Flask-Login, flask-cachebuster, markdown2, ffmpy, pynacl, bcrypt, cryptography, paramiko, gradio\n",
            "Successfully installed Flask-Cors-3.0.10 Flask-Login-0.5.0 analytics-python-1.3.1 backoff-1.10.0 bcrypt-3.2.0 cryptography-3.4.7 ffmpy-0.3.0 flask-cachebuster-1.0.0 gradio-2.0.5 markdown2-2.4.0 monotonic-1.6 paramiko-2.7.2 pycryptodome-3.10.1 pynacl-1.4.0\n"
          ],
          "name": "stdout"
        }
      ]
    },
    {
      "cell_type": "code",
      "metadata": {
        "id": "xufhQnZLAW0c"
      },
      "source": [
        "import gradio as gr"
      ],
      "execution_count": 26,
      "outputs": []
    },
    {
      "cell_type": "code",
      "metadata": {
        "id": "it3OUzDX_lwP"
      },
      "source": [
        "def predict_image(img):\n",
        "  img_4d=img.reshape(-1,150,150,3)\n",
        "  prediction=model.predict(img_4d)[0]\n",
        "  return {class_names[i]: float(prediction[i]) for i in range(10)}"
      ],
      "execution_count": 27,
      "outputs": []
    },
    {
      "cell_type": "code",
      "metadata": {
        "colab": {
          "base_uri": "https://localhost:8080/",
          "height": 609
        },
        "id": "uujkVi4mTX8Y",
        "outputId": "e068da21-32cf-4c78-cc20-624c3fe9fe3b"
      },
      "source": [
        "image = gr.inputs.Image(shape=(150,150))\n",
        "label = gr.outputs.Label(num_top_classes=10)\n",
        "r=gr.Interface(fn=predict_image, inputs=image, outputs=label,interpretation='default').launch(debug='True')\n",
        "r.launch()"
      ],
      "execution_count": null,
      "outputs": [
        {
          "output_type": "stream",
          "text": [
            "Colab notebook detected. This cell will run indefinitely so that you can see errors and logs. To turn off, set debug=False in launch().\n",
            "This share link will expire in 24 hours. If you need a permanent link, visit: https://gradio.app/introducing-hosted (NEW!)\n",
            "Running on External URL: https://48323.gradio.app\n",
            "Interface loading below...\n"
          ],
          "name": "stdout"
        },
        {
          "output_type": "display_data",
          "data": {
            "text/html": [
              "\n",
              "        <iframe\n",
              "            width=\"900\"\n",
              "            height=\"500\"\n",
              "            src=\"https://48323.gradio.app\"\n",
              "            frameborder=\"0\"\n",
              "            allowfullscreen\n",
              "        ></iframe>\n",
              "        "
            ],
            "text/plain": [
              "<IPython.lib.display.IFrame at 0x7f7c8bc5c8d0>"
            ]
          },
          "metadata": {
            "tags": []
          }
        }
      ]
    }
  ]
}